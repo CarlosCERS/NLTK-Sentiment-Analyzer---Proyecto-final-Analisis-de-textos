{
 "cells": [
  {
   "cell_type": "markdown",
   "id": "f64da220",
   "metadata": {},
   "source": [
    "# Código de experimento de NLTK Sentiment Analyzer #"
   ]
  },
  {
   "cell_type": "markdown",
   "id": "792c2752",
   "metadata": {},
   "source": [
    "## Instalando los pip necesarios ##"
   ]
  },
  {
   "cell_type": "code",
   "execution_count": 8,
   "id": "b4db1df1",
   "metadata": {
    "scrolled": true
   },
   "outputs": [
    {
     "name": "stdout",
     "output_type": "stream",
     "text": [
      "Requirement already satisfied: google-api-python-client in c:\\programdata\\anaconda3\\lib\\site-packages (2.130.0)\n",
      "Requirement already satisfied: httplib2<1.dev0,>=0.19.0 in c:\\programdata\\anaconda3\\lib\\site-packages (from google-api-python-client) (0.22.0)\n",
      "Requirement already satisfied: google-auth!=2.24.0,!=2.25.0,<3.0.0.dev0,>=1.32.0 in c:\\programdata\\anaconda3\\lib\\site-packages (from google-api-python-client) (2.29.0)\n",
      "Requirement already satisfied: google-auth-httplib2<1.0.0,>=0.2.0 in c:\\programdata\\anaconda3\\lib\\site-packages (from google-api-python-client) (0.2.0)\n",
      "Requirement already satisfied: google-api-core!=2.0.*,!=2.1.*,!=2.2.*,!=2.3.0,<3.0.0.dev0,>=1.31.5 in c:\\programdata\\anaconda3\\lib\\site-packages (from google-api-python-client) (2.19.0)\n",
      "Requirement already satisfied: uritemplate<5,>=3.0.1 in c:\\programdata\\anaconda3\\lib\\site-packages (from google-api-python-client) (4.1.1)\n",
      "Requirement already satisfied: googleapis-common-protos<2.0.dev0,>=1.56.2 in c:\\programdata\\anaconda3\\lib\\site-packages (from google-api-core!=2.0.*,!=2.1.*,!=2.2.*,!=2.3.0,<3.0.0.dev0,>=1.31.5->google-api-python-client) (1.63.0)\n",
      "Requirement already satisfied: protobuf!=3.20.0,!=3.20.1,!=4.21.0,!=4.21.1,!=4.21.2,!=4.21.3,!=4.21.4,!=4.21.5,<5.0.0.dev0,>=3.19.5 in c:\\programdata\\anaconda3\\lib\\site-packages (from google-api-core!=2.0.*,!=2.1.*,!=2.2.*,!=2.3.0,<3.0.0.dev0,>=1.31.5->google-api-python-client) (3.20.3)\n",
      "Requirement already satisfied: proto-plus<2.0.0dev,>=1.22.3 in c:\\programdata\\anaconda3\\lib\\site-packages (from google-api-core!=2.0.*,!=2.1.*,!=2.2.*,!=2.3.0,<3.0.0.dev0,>=1.31.5->google-api-python-client) (1.23.0)\n",
      "Requirement already satisfied: requests<3.0.0.dev0,>=2.18.0 in c:\\programdata\\anaconda3\\lib\\site-packages (from google-api-core!=2.0.*,!=2.1.*,!=2.2.*,!=2.3.0,<3.0.0.dev0,>=1.31.5->google-api-python-client) (2.31.0)\n",
      "Requirement already satisfied: cachetools<6.0,>=2.0.0 in c:\\programdata\\anaconda3\\lib\\site-packages (from google-auth!=2.24.0,!=2.25.0,<3.0.0.dev0,>=1.32.0->google-api-python-client) (4.2.2)\n",
      "Requirement already satisfied: pyasn1-modules>=0.2.1 in c:\\programdata\\anaconda3\\lib\\site-packages (from google-auth!=2.24.0,!=2.25.0,<3.0.0.dev0,>=1.32.0->google-api-python-client) (0.2.8)\n",
      "Requirement already satisfied: rsa<5,>=3.1.4 in c:\\programdata\\anaconda3\\lib\\site-packages (from google-auth!=2.24.0,!=2.25.0,<3.0.0.dev0,>=1.32.0->google-api-python-client) (4.9)\n",
      "Requirement already satisfied: pyparsing!=3.0.0,!=3.0.1,!=3.0.2,!=3.0.3,<4,>=2.4.2 in c:\\programdata\\anaconda3\\lib\\site-packages (from httplib2<1.dev0,>=0.19.0->google-api-python-client) (3.0.9)\n",
      "Requirement already satisfied: pyasn1<0.5.0,>=0.4.6 in c:\\programdata\\anaconda3\\lib\\site-packages (from pyasn1-modules>=0.2.1->google-auth!=2.24.0,!=2.25.0,<3.0.0.dev0,>=1.32.0->google-api-python-client) (0.4.8)\n",
      "Requirement already satisfied: charset-normalizer<4,>=2 in c:\\programdata\\anaconda3\\lib\\site-packages (from requests<3.0.0.dev0,>=2.18.0->google-api-core!=2.0.*,!=2.1.*,!=2.2.*,!=2.3.0,<3.0.0.dev0,>=1.31.5->google-api-python-client) (2.0.4)\n",
      "Requirement already satisfied: idna<4,>=2.5 in c:\\programdata\\anaconda3\\lib\\site-packages (from requests<3.0.0.dev0,>=2.18.0->google-api-core!=2.0.*,!=2.1.*,!=2.2.*,!=2.3.0,<3.0.0.dev0,>=1.31.5->google-api-python-client) (3.4)\n",
      "Requirement already satisfied: urllib3<3,>=1.21.1 in c:\\programdata\\anaconda3\\lib\\site-packages (from requests<3.0.0.dev0,>=2.18.0->google-api-core!=2.0.*,!=2.1.*,!=2.2.*,!=2.3.0,<3.0.0.dev0,>=1.31.5->google-api-python-client) (2.0.7)\n",
      "Requirement already satisfied: certifi>=2017.4.17 in c:\\programdata\\anaconda3\\lib\\site-packages (from requests<3.0.0.dev0,>=2.18.0->google-api-core!=2.0.*,!=2.1.*,!=2.2.*,!=2.3.0,<3.0.0.dev0,>=1.31.5->google-api-python-client) (2024.2.2)\n",
      "Note: you may need to restart the kernel to use updated packages.\n"
     ]
    }
   ],
   "source": [
    "pip install google-api-python-client"
   ]
  },
  {
   "cell_type": "markdown",
   "id": "17858569",
   "metadata": {},
   "source": [
    "## Extrajendo todos los comentarios principales de una Playlist de Youtuve con un máximo de 2,000 ##"
   ]
  },
  {
   "cell_type": "code",
   "execution_count": 30,
   "id": "2d5e8dd7",
   "metadata": {
    "scrolled": false
   },
   "outputs": [
    {
     "name": "stdout",
     "output_type": "stream",
     "text": [
      "              author          published_at            updated_at  like_count  \\\n",
      "0         @Ffokcufod  2024-05-27T19:36:04Z  2024-05-27T19:36:04Z           0   \n",
      "1  @KarenSimon-se3ez  2024-05-27T19:34:45Z  2024-05-27T19:34:45Z           1   \n",
      "2  @tinaferrebee9070  2024-05-27T19:30:30Z  2024-05-27T19:30:30Z           0   \n",
      "3        @chevysaab1  2024-05-27T19:27:14Z  2024-05-27T19:27:14Z           0   \n",
      "4         @klacy5555  2024-05-27T19:17:53Z  2024-05-27T19:17:53Z           0   \n",
      "5   @susandecker6351  2024-05-27T19:14:09Z  2024-05-27T19:14:09Z           0   \n",
      "6       @enduser6764  2024-05-27T19:13:40Z  2024-05-27T19:13:40Z           0   \n",
      "7   @cloutfisher7714  2024-05-27T19:04:34Z  2024-05-27T19:04:34Z           0   \n",
      "8  @billybutcher5968  2024-05-27T18:58:08Z  2024-05-27T18:58:08Z           0   \n",
      "9  @hamishfenton8633  2024-05-27T18:57:22Z  2024-05-27T18:57:22Z           0   \n",
      "\n",
      "                                                text  \n",
      "0                        Traitor trump needs dumped.  \n",
      "1  Love Trump &amp; his Family.    Vote for Trump...  \n",
      "2  I believe the President needs medical attentio...  \n",
      "3  you why trump is a coward, draft dodger , and ...  \n",
      "4  Good work Fox, couldn&#39;t hear a F*cking thi...  \n",
      "5  None of this is true. They were cheering got t...  \n",
      "6  It would be hilarious if trump wins. It&#39;ll...  \n",
      "7  The decision to report from an active NASCAR t...  \n",
      "8                                  86 billion people  \n",
      "9                                     My god fake as  \n"
     ]
    }
   ],
   "source": [
    "import googleapiclient.discovery\n",
    "import pandas as pd\n",
    "\n",
    "api_service_name = \"youtube\"\n",
    "api_version = \"v3\"\n",
    "DEVELOPER_KEY = \"INSERTE_SU_KEY_AQUI\"\n",
    "\n",
    "youtube = googleapiclient.discovery.build(\n",
    "    api_service_name, api_version, developerKey=DEVELOPER_KEY)\n",
    "\n",
    "playlist_id = \"INSERTE_ID_PLAYLIST\"\n",
    "max_comments = 2000 #Puede cambiarlo a otro valor.\n",
    "\n",
    "comments = []\n",
    "total_comments = 0\n",
    "next_page_token = None\n",
    "\n",
    "# Función para extraer los videos de una playlist.\n",
    "def get_videos_from_playlist(playlist_id):\n",
    "    videos = []\n",
    "    next_page_token = None\n",
    "    while True:\n",
    "        request = youtube.playlistItems().list(\n",
    "            part=\"snippet\",\n",
    "            playlistId=playlist_id,\n",
    "            maxResults=50,\n",
    "            pageToken=next_page_token\n",
    "        )\n",
    "        response = request.execute()\n",
    "        for item in response['items']:\n",
    "            video_id = item['snippet']['resourceId']['videoId']\n",
    "            videos.append(video_id)\n",
    "        next_page_token = response.get('nextPageToken')\n",
    "        if not next_page_token:\n",
    "            break\n",
    "    return videos\n",
    "\n",
    "# Función para obtener los comentarios de un video.\n",
    "def get_comments_from_video(video_id, max_comments, total_comments):\n",
    "    next_page_token = None\n",
    "    video_comments = []\n",
    "    while total_comments < max_comments:\n",
    "        request = youtube.commentThreads().list(\n",
    "            part=\"snippet\",\n",
    "            videoId=video_id,\n",
    "            maxResults=100,\n",
    "            pageToken=next_page_token\n",
    "        )\n",
    "        response = request.execute()\n",
    "        for item in response['items']:\n",
    "            comment = item['snippet']['topLevelComment']['snippet']\n",
    "            video_comments.append([\n",
    "                comment['authorDisplayName'],\n",
    "                comment['publishedAt'],\n",
    "                comment['updatedAt'],\n",
    "                comment['likeCount'],\n",
    "                comment['textDisplay']\n",
    "            ])\n",
    "            total_comments += 1\n",
    "            if total_comments >= max_comments:\n",
    "                break\n",
    "        if total_comments >= max_comments:\n",
    "            break\n",
    "        next_page_token = response.get('nextPageToken')\n",
    "        if not next_page_token:\n",
    "            break\n",
    "    return video_comments, total_comments\n",
    "\n",
    "# Extraer todos los videos de la playlist.\n",
    "videos = get_videos_from_playlist(playlist_id)\n",
    "\n",
    "# Hacer una iteración con todos los videos extraidos de la playlist.\n",
    "for video_id in videos:\n",
    "    video_comments, total_comments = get_comments_from_video(video_id, max_comments, total_comments)\n",
    "    comments.extend(video_comments)\n",
    "    if total_comments >= max_comments:\n",
    "        break\n",
    "\n",
    "df = pd.DataFrame(comments, columns=['author', 'published_at', 'updated_at', 'like_count', 'text'])\n",
    "print(df.head(10))\n"
   ]
  },
  {
   "cell_type": "markdown",
   "id": "33fc260c",
   "metadata": {},
   "source": [
    "## Guardando los datos en un CSV ##"
   ]
  },
  {
   "cell_type": "code",
   "execution_count": 31,
   "id": "f4fef197",
   "metadata": {
    "scrolled": false
   },
   "outputs": [],
   "source": [
    "# Exporta todos los datos obtenidos a un archivo CSV.\n",
    "csv_file = 'TrumpNow.csv'  # Nombre dela archivo.\n",
    "df.to_csv(csv_file, index=False)"
   ]
  },
  {
   "cell_type": "markdown",
   "id": "9e4e51ce",
   "metadata": {},
   "source": [
    "## Lectura de sentimientos con nltk.sentiment.vader ##"
   ]
  },
  {
   "cell_type": "code",
   "execution_count": 5,
   "id": "cb18616b",
   "metadata": {},
   "outputs": [
    {
     "name": "stderr",
     "output_type": "stream",
     "text": [
      "[nltk_data] Downloading package vader_lexicon to C:\\Users\\Carlos\n",
      "[nltk_data]     Rivas\\AppData\\Roaming\\nltk_data...\n"
     ]
    },
    {
     "data": {
      "text/plain": [
       "True"
      ]
     },
     "execution_count": 5,
     "metadata": {},
     "output_type": "execute_result"
    }
   ],
   "source": [
    "import nltk\n",
    "nltk.downloader.download('vader_lexicon')"
   ]
  },
  {
   "cell_type": "code",
   "execution_count": 10,
   "id": "a96facec",
   "metadata": {},
   "outputs": [],
   "source": [
    "from nltk.sentiment.vader import SentimentIntensityAnalyzer\n",
    "import pandas as pd\n",
    "sid = SentimentIntensityAnalyzer()\n",
    "df = pd.read_csv(\"TrumpOld.csv\")\n",
    "df[\"sentimiento\"] = df[\"text\"].apply(lambda i: sid.polarity_scores(i)['compound'])\n",
    "df.to_csv(\"TrumpOldSent.csv\")"
   ]
  },
  {
   "cell_type": "markdown",
   "id": "ff0a8e3d",
   "metadata": {},
   "source": [
    "## Graficos de muestreo ##"
   ]
  },
  {
   "cell_type": "code",
   "execution_count": 34,
   "id": "488cf74f",
   "metadata": {
    "scrolled": true
   },
   "outputs": [
    {
     "data": {
      "image/png": "[encoded data removed]",
      "text/plain": [
       "<Figure size 640x480 with 1 Axes>"
      ]
     },
     "metadata": {},
     "output_type": "display_data"
    }
   ],
   "source": [
    "import pandas as pd\n",
    "import matplotlib.pyplot as plt\n",
    "\n",
    "# Leer el archivo CSV\n",
    "# Reemplaza 'archivo.csv' con la ruta a tu archivo\n",
    "df = pd.read_csv('JoeOldSent.csv')\n",
    "\n",
    "# Filtrar la columna 'sentimiento'\n",
    "sentimientos = df['sentimiento']\n",
    "\n",
    "# Clasificar los sentimientos en los grupos especificados\n",
    "def clasificar_sentimiento(valor):\n",
    "    if valor < 0:\n",
    "        return 'Negativo'\n",
    "    elif valor == 0 :\n",
    "        return 'Neutral'\n",
    "    else:\n",
    "        return 'Positivo'\n",
    "\n",
    "df['grupo'] = sentimientos.apply(clasificar_sentimiento)\n",
    "\n",
    "# Contar la cantidad de valores en cada grupo\n",
    "conteo_grupos = df['grupo'].value_counts(normalize=True) * 100\n",
    "\n",
    "# Crear el gráfico de pastel\n",
    "colores = ['gray', 'green', 'red']\n",
    "plt.pie(conteo_grupos, labels=conteo_grupos.index, colors=colores, autopct='%1.1f%%', startangle=140)\n",
    "\n",
    "# Personalizar el gráfico\n",
    "plt.title('Opiniones de Joe Biden 2023.')\n",
    "plt.axis('equal')  # Para asegurar que el gráfico de pastel sea circular\n",
    "\n",
    "# Mostrar el gráfico\n",
    "plt.show()\n"
   ]
  },
  {
   "cell_type": "markdown",
   "id": "80ab8d02",
   "metadata": {},
   "source": [
    "## Fin del código ##"
   ]
  },
  {
   "cell_type": "code",
   "execution_count": null,
   "id": "838ae922",
   "metadata": {},
   "outputs": [],
   "source": []
  }
 ],
 "metadata": {
  "kernelspec": {
   "display_name": "Python 3 (ipykernel)",
   "language": "python",
   "name": "python3"
  },
  "language_info": {
   "codemirror_mode": {
    "name": "ipython",
    "version": 3
   },
   "file_extension": ".py",
   "mimetype": "text/x-python",
   "name": "python",
   "nbconvert_exporter": "python",
   "pygments_lexer": "ipython3",
   "version": "3.11.7"
  }
 },
 "nbformat": 4,
 "nbformat_minor": 5
}
